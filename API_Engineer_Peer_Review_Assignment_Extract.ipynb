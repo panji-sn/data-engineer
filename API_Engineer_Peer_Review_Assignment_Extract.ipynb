{
 "cells": [
  {
   "cell_type": "markdown",
   "metadata": {},
   "source": [
    "<center>\n",
    "    <img src=\"https://gitlab.com/ibm/skills-network/courses/placeholder101/-/raw/master/labs/module%201/images/IDSNlogo.png\" width=\"300\" alt=\"cognitiveclass.ai logo\"  />\n",
    "</center>\n"
   ]
  },
  {
   "cell_type": "markdown",
   "metadata": {},
   "source": [
    "# Peer Review Assignment - Data Engineer - Extract API Data\n"
   ]
  },
  {
   "cell_type": "markdown",
   "metadata": {},
   "source": [
    "Estimated time needed: **20** minutes\n"
   ]
  },
  {
   "cell_type": "markdown",
   "metadata": {},
   "source": [
    "## Objectives\n",
    "\n",
    "In this part you will:\n",
    "\n",
    "*   Collect exchange rate data using an API\n",
    "*   Store the data as a CSV\n"
   ]
  },
  {
   "cell_type": "markdown",
   "metadata": {},
   "source": [
    "For this lab, we are going to be using Python and several Python libraries. Some of these libraries might be installed in your lab environment or in SN Labs. Others may need to be installed by you. The cells below will install these libraries when executed.\n"
   ]
  },
  {
   "cell_type": "code",
   "execution_count": 1,
   "metadata": {},
   "outputs": [
    {
     "name": "stdout",
     "output_type": "stream",
     "text": [
      "Requirement already satisfied: pandas in /home/jupyterlab/conda/envs/python/lib/python3.7/site-packages (1.3.4)\n",
      "Requirement already satisfied: python-dateutil>=2.7.3 in /home/jupyterlab/conda/envs/python/lib/python3.7/site-packages (from pandas) (2.8.2)\n",
      "Requirement already satisfied: pytz>=2017.3 in /home/jupyterlab/conda/envs/python/lib/python3.7/site-packages (from pandas) (2021.3)\n",
      "Requirement already satisfied: numpy>=1.17.3 in /home/jupyterlab/conda/envs/python/lib/python3.7/site-packages (from pandas) (1.21.4)\n",
      "Requirement already satisfied: six>=1.5 in /home/jupyterlab/conda/envs/python/lib/python3.7/site-packages (from python-dateutil>=2.7.3->pandas) (1.16.0)\n",
      "Requirement already satisfied: requests in /home/jupyterlab/conda/envs/python/lib/python3.7/site-packages (2.26.0)\n",
      "Requirement already satisfied: certifi>=2017.4.17 in /home/jupyterlab/conda/envs/python/lib/python3.7/site-packages (from requests) (2021.10.8)\n",
      "Requirement already satisfied: urllib3<1.27,>=1.21.1 in /home/jupyterlab/conda/envs/python/lib/python3.7/site-packages (from requests) (1.26.7)\n",
      "Requirement already satisfied: idna<4,>=2.5 in /home/jupyterlab/conda/envs/python/lib/python3.7/site-packages (from requests) (3.1)\n",
      "Requirement already satisfied: charset-normalizer~=2.0.0 in /home/jupyterlab/conda/envs/python/lib/python3.7/site-packages (from requests) (2.0.8)\n"
     ]
    }
   ],
   "source": [
    "!pip install pandas\n",
    "!pip install requests"
   ]
  },
  {
   "cell_type": "markdown",
   "metadata": {},
   "source": [
    "## Imports\n",
    "\n",
    "Import any additional libraries you may need here.\n"
   ]
  },
  {
   "cell_type": "code",
   "execution_count": 15,
   "metadata": {},
   "outputs": [],
   "source": [
    "import requests\n",
    "import pandas as pd\n",
    "import json"
   ]
  },
  {
   "cell_type": "markdown",
   "metadata": {},
   "source": [
    "## Extract Data Using an API\n"
   ]
  },
  {
   "cell_type": "markdown",
   "metadata": {},
   "source": [
    "Using ExchangeRate-API we will extract currency exchange rate data. Use the below steps to get the access key and to get the data.\n",
    "\n",
    "1.  Open the url : [https://exchangeratesapi.io/](https://exchangeratesapi.io/?utm_medium=Exinfluencer&utm_source=Exinfluencer&utm_content=000026UJ&utm_term=10006555&utm_id=NA-SkillsNetwork-Channel-SkillsNetworkCoursesIBMDeveloperSkillsNetworkPY0221ENSkillsNetwork23455645-2021-01-01) and create a free account.\n",
    "2.  Once the account is created. You will get the Get the Free API key option on the top as shown below:\n",
    "\n",
    "<img src=\"https://cf-courses-data.s3.us.cloud-object-storage.appdomain.cloud/IBMDeveloperSkillsNetwork-PY0221EN-SkillsNetwork/labs/module%206/Final%20Assignment/Images/getapi.png\"/>\n",
    "\n",
    "3.  Copy the API key and use in the url in Question 1.\n"
   ]
  },
  {
   "cell_type": "markdown",
   "metadata": {},
   "source": [
    "### Call the API\n",
    "\n",
    "<b> Question 1</b> Using the `requests` library call the endpoint given above and save the text, remember the first few characters of the output:\n"
   ]
  },
  {
   "cell_type": "code",
   "execution_count": 28,
   "metadata": {},
   "outputs": [
    {
     "data": {
      "text/plain": [
       "{'success': True,\n",
       " 'timestamp': 1642601944,\n",
       " 'base': 'EUR',\n",
       " 'date': '2022-01-19',\n",
       " 'rates': {'AED': 4.164417,\n",
       "  'AFN': 119.331233,\n",
       "  'ALL': 121.893253,\n",
       "  'AMD': 545.071668,\n",
       "  'ANG': 2.043577,\n",
       "  'AOA': 607.713038,\n",
       "  'ARS': 118.187263,\n",
       "  'AUD': 1.570162,\n",
       "  'AWG': 2.040828,\n",
       "  'AZN': 1.931054,\n",
       "  'BAM': 1.956043,\n",
       "  'BBD': 2.289398,\n",
       "  'BDT': 97.48565,\n",
       "  'BGN': 1.955803,\n",
       "  'BHD': 0.427348,\n",
       "  'BIF': 2275.523104,\n",
       "  'BMD': 1.133793,\n",
       "  'BND': 1.529133,\n",
       "  'BOB': 7.818078,\n",
       "  'BRL': 6.254794,\n",
       "  'BSD': 1.133898,\n",
       "  'BTC': 2.6889791e-05,\n",
       "  'BTN': 84.305307,\n",
       "  'BWP': 13.116137,\n",
       "  'BYN': 2.930619,\n",
       "  'BYR': 22222.348199,\n",
       "  'BZD': 2.285598,\n",
       "  'CAD': 1.416975,\n",
       "  'CDF': 2274.389703,\n",
       "  'CHF': 1.039377,\n",
       "  'CLF': 0.033504,\n",
       "  'CLP': 924.234418,\n",
       "  'CNY': 7.195619,\n",
       "  'COP': 4546.556386,\n",
       "  'CRC': 718.902313,\n",
       "  'CUC': 1.133793,\n",
       "  'CUP': 30.045522,\n",
       "  'CVE': 110.488474,\n",
       "  'CZK': 24.310768,\n",
       "  'DJF': 201.861948,\n",
       "  'DKK': 7.442276,\n",
       "  'DOP': 65.422813,\n",
       "  'DZD': 158.300173,\n",
       "  'EGP': 17.818132,\n",
       "  'ERN': 17.006921,\n",
       "  'ETB': 56.23362,\n",
       "  'EUR': 1,\n",
       "  'FJD': 2.415153,\n",
       "  'FKP': 0.825311,\n",
       "  'GBP': 0.831756,\n",
       "  'GEL': 3.492184,\n",
       "  'GGP': 0.825311,\n",
       "  'GHS': 7.106804,\n",
       "  'GIP': 0.82531,\n",
       "  'GMD': 59.639331,\n",
       "  'GNF': 10283.505209,\n",
       "  'GTQ': 8.736557,\n",
       "  'GYD': 237.300569,\n",
       "  'HKD': 8.83378,\n",
       "  'HNL': 27.775463,\n",
       "  'HRK': 7.525784,\n",
       "  'HTG': 114.383915,\n",
       "  'HUF': 355.69478,\n",
       "  'IDR': 16284.616126,\n",
       "  'ILS': 3.554237,\n",
       "  'IMP': 0.825311,\n",
       "  'INR': 84.341294,\n",
       "  'IQD': 1655.338182,\n",
       "  'IRR': 47931.110835,\n",
       "  'ISK': 145.205434,\n",
       "  'JEP': 0.825311,\n",
       "  'JMD': 175.763235,\n",
       "  'JOD': 0.803887,\n",
       "  'JPY': 129.833504,\n",
       "  'KES': 128.663057,\n",
       "  'KGS': 96.143059,\n",
       "  'KHR': 4621.34111,\n",
       "  'KMF': 492.122879,\n",
       "  'KPW': 1020.414126,\n",
       "  'KRW': 1348.182439,\n",
       "  'KWD': 0.342836,\n",
       "  'KYD': 0.944882,\n",
       "  'KZT': 495.126018,\n",
       "  'LAK': 12794.85678,\n",
       "  'LBP': 1710.699805,\n",
       "  'LKR': 230.036539,\n",
       "  'LRD': 170.352983,\n",
       "  'LSL': 17.550957,\n",
       "  'LTL': 3.347796,\n",
       "  'LVL': 0.68582,\n",
       "  'LYD': 5.187057,\n",
       "  'MAD': 10.520944,\n",
       "  'MDL': 20.467025,\n",
       "  'MGA': 4529.503659,\n",
       "  'MKD': 61.621972,\n",
       "  'MMK': 2016.044648,\n",
       "  'MNT': 3241.323549,\n",
       "  'MOP': 9.10033,\n",
       "  'MRO': 404.764004,\n",
       "  'MUR': 49.648736,\n",
       "  'MVR': 17.517347,\n",
       "  'MWK': 925.745086,\n",
       "  'MXN': 23.13715,\n",
       "  'MYR': 4.743225,\n",
       "  'MZN': 72.370075,\n",
       "  'NAD': 17.5512,\n",
       "  'NGN': 470.149994,\n",
       "  'NIO': 40.137433,\n",
       "  'NOK': 9.942845,\n",
       "  'NPR': 134.888692,\n",
       "  'NZD': 1.668259,\n",
       "  'OMR': 0.436483,\n",
       "  'PAB': 1.133898,\n",
       "  'PEN': 4.393451,\n",
       "  'PGK': 3.975646,\n",
       "  'PHP': 58.373913,\n",
       "  'PKR': 199.658925,\n",
       "  'PLN': 4.526785,\n",
       "  'PYG': 7896.584464,\n",
       "  'QAR': 4.128118,\n",
       "  'RON': 4.944816,\n",
       "  'RSD': 117.614027,\n",
       "  'RUB': 86.589602,\n",
       "  'RWF': 1151.933968,\n",
       "  'SAR': 4.253423,\n",
       "  'SBD': 9.139929,\n",
       "  'SCR': 14.935397,\n",
       "  'SDG': 496.039161,\n",
       "  'SEK': 10.340651,\n",
       "  'SGD': 1.528943,\n",
       "  'SHP': 1.561686,\n",
       "  'SLL': 12896.898268,\n",
       "  'SOS': 663.269098,\n",
       "  'SRD': 23.974621,\n",
       "  'STD': 23467.231683,\n",
       "  'SVC': 9.92186,\n",
       "  'SYP': 2848.088453,\n",
       "  'SZL': 17.550973,\n",
       "  'THB': 37.397602,\n",
       "  'TJS': 12.807549,\n",
       "  'TMT': 3.979614,\n",
       "  'TND': 3.262486,\n",
       "  'TOP': 2.571386,\n",
       "  'TRY': 15.357105,\n",
       "  'TTD': 7.687866,\n",
       "  'TWD': 31.320476,\n",
       "  'TZS': 2618.195102,\n",
       "  'UAH': 32.237005,\n",
       "  'UGX': 3991.333971,\n",
       "  'USD': 1.133793,\n",
       "  'UYU': 50.548381,\n",
       "  'UZS': 12256.305442,\n",
       "  'VEF': 242439268179.60742,\n",
       "  'VND': 25742.77632,\n",
       "  'VUV': 128.879885,\n",
       "  'WST': 2.961857,\n",
       "  'XAF': 656.031222,\n",
       "  'XAG': 0.04762,\n",
       "  'XAU': 0.000621,\n",
       "  'XCD': 3.064133,\n",
       "  'XDR': 0.807891,\n",
       "  'XOF': 652.500763,\n",
       "  'XPF': 119.762574,\n",
       "  'YER': 283.731386,\n",
       "  'ZAR': 17.412111,\n",
       "  'ZMK': 10205.497511,\n",
       "  'ZMW': 19.616633,\n",
       "  'ZWL': 365.080972}}"
      ]
     },
     "execution_count": 28,
     "metadata": {},
     "output_type": "execute_result"
    }
   ],
   "source": [
    "# Write your code here\n",
    "url = \"http://api.exchangeratesapi.io/v1/latest?base=EUR&access_key=e58973f17edeb8380f64b260d59b2352\"  #Make sure to change ******* to your API key.\n",
    "data = requests.get(url).text\n",
    "new_dict = json.loads(data)\n",
    "new_dict"
   ]
  },
  {
   "cell_type": "markdown",
   "metadata": {},
   "source": [
    "### Save as DataFrame\n",
    "\n",
    "<b> Question 2</b>  Using the data gathered turn it into a `pandas` dataframe. The dataframe should have the Currency as the index and `Rate` as their columns. Make sure to drop unnecessary columns.\n"
   ]
  },
  {
   "cell_type": "code",
   "execution_count": 31,
   "metadata": {},
   "outputs": [
    {
     "data": {
      "text/html": [
       "<div>\n",
       "<style scoped>\n",
       "    .dataframe tbody tr th:only-of-type {\n",
       "        vertical-align: middle;\n",
       "    }\n",
       "\n",
       "    .dataframe tbody tr th {\n",
       "        vertical-align: top;\n",
       "    }\n",
       "\n",
       "    .dataframe thead th {\n",
       "        text-align: right;\n",
       "    }\n",
       "</style>\n",
       "<table border=\"1\" class=\"dataframe\">\n",
       "  <thead>\n",
       "    <tr style=\"text-align: right;\">\n",
       "      <th></th>\n",
       "      <th>Rate</th>\n",
       "    </tr>\n",
       "  </thead>\n",
       "  <tbody>\n",
       "    <tr>\n",
       "      <th>AED</th>\n",
       "      <td>4.164417</td>\n",
       "    </tr>\n",
       "    <tr>\n",
       "      <th>AFN</th>\n",
       "      <td>119.331233</td>\n",
       "    </tr>\n",
       "    <tr>\n",
       "      <th>ALL</th>\n",
       "      <td>121.893253</td>\n",
       "    </tr>\n",
       "    <tr>\n",
       "      <th>AMD</th>\n",
       "      <td>545.071668</td>\n",
       "    </tr>\n",
       "    <tr>\n",
       "      <th>ANG</th>\n",
       "      <td>2.043577</td>\n",
       "    </tr>\n",
       "    <tr>\n",
       "      <th>...</th>\n",
       "      <td>...</td>\n",
       "    </tr>\n",
       "    <tr>\n",
       "      <th>YER</th>\n",
       "      <td>283.731386</td>\n",
       "    </tr>\n",
       "    <tr>\n",
       "      <th>ZAR</th>\n",
       "      <td>17.412111</td>\n",
       "    </tr>\n",
       "    <tr>\n",
       "      <th>ZMK</th>\n",
       "      <td>10205.497511</td>\n",
       "    </tr>\n",
       "    <tr>\n",
       "      <th>ZMW</th>\n",
       "      <td>19.616633</td>\n",
       "    </tr>\n",
       "    <tr>\n",
       "      <th>ZWL</th>\n",
       "      <td>365.080972</td>\n",
       "    </tr>\n",
       "  </tbody>\n",
       "</table>\n",
       "<p>168 rows × 1 columns</p>\n",
       "</div>"
      ],
      "text/plain": [
       "             Rate\n",
       "AED      4.164417\n",
       "AFN    119.331233\n",
       "ALL    121.893253\n",
       "AMD    545.071668\n",
       "ANG      2.043577\n",
       "..            ...\n",
       "YER    283.731386\n",
       "ZAR     17.412111\n",
       "ZMK  10205.497511\n",
       "ZMW     19.616633\n",
       "ZWL    365.080972\n",
       "\n",
       "[168 rows x 1 columns]"
      ]
     },
     "execution_count": 31,
     "metadata": {},
     "output_type": "execute_result"
    }
   ],
   "source": [
    "# Turn the data into a dataframe\n",
    "df = pd.DataFrame.from_dict(new_dict[\"rates\"], orient=\"index\", columns=[\"Rate\"])\n",
    "df"
   ]
  },
  {
   "cell_type": "markdown",
   "metadata": {},
   "source": [
    "### Load the Data\n",
    "\n",
    "Using the dataframe save it as a CSV names `exchange_rates_1.csv`.\n"
   ]
  },
  {
   "cell_type": "code",
   "execution_count": 32,
   "metadata": {},
   "outputs": [],
   "source": [
    "# Save the Dataframe\n",
    "df.to_csv(\"exchange_rates_1.csv\")"
   ]
  },
  {
   "cell_type": "markdown",
   "metadata": {},
   "source": [
    "Your CSV should be in this format with more currencies\n",
    "\n",
    "|     | Rates      |\n",
    "| --- | ---------- |\n",
    "| AED | 4.398618   |\n",
    "| AFN | 92.917693  |\n",
    "| ALL | 123.099093 |\n",
    "| AMD | 621.935674 |\n",
    "| ANG | 2.149648   |\n"
   ]
  },
  {
   "cell_type": "markdown",
   "metadata": {},
   "source": [
    "## Authors\n"
   ]
  },
  {
   "cell_type": "markdown",
   "metadata": {},
   "source": [
    "Ramesh Sannareddy, Joseph Santarcangelo and Azim Hirjani\n"
   ]
  },
  {
   "cell_type": "markdown",
   "metadata": {},
   "source": [
    "### Other Contributors\n"
   ]
  },
  {
   "cell_type": "markdown",
   "metadata": {},
   "source": [
    "Rav Ahuja\n"
   ]
  },
  {
   "cell_type": "markdown",
   "metadata": {},
   "source": [
    "## Change Log\n"
   ]
  },
  {
   "cell_type": "markdown",
   "metadata": {},
   "source": [
    "| Date (YYYY-MM-DD) | Version | Changed By        | Change Description                 |\n",
    "| ----------------- | ------- | ----------------- | ---------------------------------- |\n",
    "| 2021-04-15        | 0.2     | Malika            | Updated the lab from USD to EUR    |\n",
    "| 2020-11-25        | 0.1     | Ramesh Sannareddy | Created initial version of the lab |\n"
   ]
  },
  {
   "cell_type": "markdown",
   "metadata": {},
   "source": [
    "Copyright © 2020 IBM Corporation. This notebook and its source code are released under the terms of the [MIT License](https://cognitiveclass.ai/mit-license?utm_medium=Exinfluencer&utm_source=Exinfluencer&utm_content=000026UJ&utm_term=10006555&utm_id=NA-SkillsNetwork-Channel-SkillsNetworkCoursesIBMDeveloperSkillsNetworkPY0221ENSkillsNetwork23455645-2021-01-01&cm_mmc=Email_Newsletter-\\_-Developer_Ed%2BTech-\\_-WW_WW-\\_-SkillsNetwork-Courses-IBM-DA0321EN-SkillsNetwork-21426264&cm_mmca1=000026UJ&cm_mmca2=10006555&cm_mmca3=M12345678&cvosrc=email.Newsletter.M12345678&cvo_campaign=000026UJ).\n"
   ]
  }
 ],
 "metadata": {
  "kernelspec": {
   "display_name": "Python",
   "language": "python",
   "name": "conda-env-python-py"
  },
  "language_info": {
   "codemirror_mode": {
    "name": "ipython",
    "version": 3
   },
   "file_extension": ".py",
   "mimetype": "text/x-python",
   "name": "python",
   "nbconvert_exporter": "python",
   "pygments_lexer": "ipython3",
   "version": "3.7.12"
  }
 },
 "nbformat": 4,
 "nbformat_minor": 4
}
